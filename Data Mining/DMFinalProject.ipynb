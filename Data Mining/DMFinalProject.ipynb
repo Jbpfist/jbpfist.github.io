{
 "cells": [
  {
   "cell_type": "code",
   "execution_count": 19,
   "id": "597159b6",
   "metadata": {},
   "outputs": [],
   "source": [
    "import pandas as pd\n",
    "import numpy as np\n",
    "from sklearn.preprocessing import MinMaxScaler\n",
    "from sklearn.preprocessing import minmax_scale\n",
    "import matplotlib.pyplot as plt\n",
    "from sklearn.linear_model import LinearRegression\n",
    "import seaborn as sns\n",
    "from sklearn.model_selection import train_test_split\n",
    "from sklearn import preprocessing\n",
    "from sklearn.linear_model import LogisticRegression\n",
    "%matplotlib inline"
   ]
  },
  {
   "cell_type": "code",
   "execution_count": 22,
   "id": "e680ad5e",
   "metadata": {},
   "outputs": [],
   "source": [
    "df = pd.read_csv('C:\\\\Users\\\\jaybp\\\\Documents\\\\Code and junk\\\\game_sales_data.csv')\n",
    "scaled = df[['Total_Shipped']] = minmax_scale(df[['Total_Shipped']])"
   ]
  },
  {
   "cell_type": "code",
   "execution_count": 25,
   "id": "b87195bc",
   "metadata": {},
   "outputs": [
    {
     "data": {
      "text/html": [
       "<div>\n",
       "<style scoped>\n",
       "    .dataframe tbody tr th:only-of-type {\n",
       "        vertical-align: middle;\n",
       "    }\n",
       "\n",
       "    .dataframe tbody tr th {\n",
       "        vertical-align: top;\n",
       "    }\n",
       "\n",
       "    .dataframe thead th {\n",
       "        text-align: right;\n",
       "    }\n",
       "</style>\n",
       "<table border=\"1\" class=\"dataframe\">\n",
       "  <thead>\n",
       "    <tr style=\"text-align: right;\">\n",
       "      <th></th>\n",
       "      <th>Rank</th>\n",
       "      <th>Name</th>\n",
       "      <th>Platform</th>\n",
       "      <th>Publisher</th>\n",
       "      <th>Developer</th>\n",
       "      <th>Critic_Score</th>\n",
       "      <th>User_Score</th>\n",
       "      <th>Total_Shipped</th>\n",
       "      <th>Year</th>\n",
       "    </tr>\n",
       "  </thead>\n",
       "  <tbody>\n",
       "    <tr>\n",
       "      <th>0</th>\n",
       "      <td>1</td>\n",
       "      <td>Wii Sports</td>\n",
       "      <td>Wii</td>\n",
       "      <td>Nintendo</td>\n",
       "      <td>Nintendo EAD</td>\n",
       "      <td>7.7</td>\n",
       "      <td>8.0</td>\n",
       "      <td>1.000000</td>\n",
       "      <td>2006</td>\n",
       "    </tr>\n",
       "    <tr>\n",
       "      <th>1</th>\n",
       "      <td>2</td>\n",
       "      <td>Super Mario Bros.</td>\n",
       "      <td>NES</td>\n",
       "      <td>Nintendo</td>\n",
       "      <td>Nintendo EAD</td>\n",
       "      <td>10.0</td>\n",
       "      <td>8.2</td>\n",
       "      <td>0.485342</td>\n",
       "      <td>1985</td>\n",
       "    </tr>\n",
       "    <tr>\n",
       "      <th>2</th>\n",
       "      <td>3</td>\n",
       "      <td>Counter-Strike: Global Offensive</td>\n",
       "      <td>PC</td>\n",
       "      <td>Valve</td>\n",
       "      <td>Valve Corporation</td>\n",
       "      <td>8.0</td>\n",
       "      <td>7.5</td>\n",
       "      <td>0.482447</td>\n",
       "      <td>2012</td>\n",
       "    </tr>\n",
       "    <tr>\n",
       "      <th>3</th>\n",
       "      <td>4</td>\n",
       "      <td>Mario Kart Wii</td>\n",
       "      <td>Wii</td>\n",
       "      <td>Nintendo</td>\n",
       "      <td>Nintendo EAD</td>\n",
       "      <td>8.2</td>\n",
       "      <td>9.1</td>\n",
       "      <td>0.450115</td>\n",
       "      <td>2008</td>\n",
       "    </tr>\n",
       "    <tr>\n",
       "      <th>4</th>\n",
       "      <td>5</td>\n",
       "      <td>PLAYERUNKNOWN'S BATTLEGROUNDS</td>\n",
       "      <td>PC</td>\n",
       "      <td>PUBG Corporation</td>\n",
       "      <td>PUBG Corporation</td>\n",
       "      <td>8.6</td>\n",
       "      <td>4.7</td>\n",
       "      <td>0.441428</td>\n",
       "      <td>2017</td>\n",
       "    </tr>\n",
       "    <tr>\n",
       "      <th>...</th>\n",
       "      <td>...</td>\n",
       "      <td>...</td>\n",
       "      <td>...</td>\n",
       "      <td>...</td>\n",
       "      <td>...</td>\n",
       "      <td>...</td>\n",
       "      <td>...</td>\n",
       "      <td>...</td>\n",
       "      <td>...</td>\n",
       "    </tr>\n",
       "    <tr>\n",
       "      <th>19595</th>\n",
       "      <td>19594</td>\n",
       "      <td>FirePower for Microsoft Combat Flight Simulator 3</td>\n",
       "      <td>PC</td>\n",
       "      <td>GMX Media</td>\n",
       "      <td>Shockwave Productions</td>\n",
       "      <td>NaN</td>\n",
       "      <td>NaN</td>\n",
       "      <td>0.000000</td>\n",
       "      <td>2004</td>\n",
       "    </tr>\n",
       "    <tr>\n",
       "      <th>19596</th>\n",
       "      <td>19595</td>\n",
       "      <td>Tom Clancy's Splinter Cell</td>\n",
       "      <td>PC</td>\n",
       "      <td>Ubisoft</td>\n",
       "      <td>Ubisoft</td>\n",
       "      <td>9.4</td>\n",
       "      <td>NaN</td>\n",
       "      <td>0.000000</td>\n",
       "      <td>2003</td>\n",
       "    </tr>\n",
       "    <tr>\n",
       "      <th>19597</th>\n",
       "      <td>19596</td>\n",
       "      <td>Ashita no Joe 2: The Anime Super Remix</td>\n",
       "      <td>PS2</td>\n",
       "      <td>Capcom</td>\n",
       "      <td>Capcom</td>\n",
       "      <td>NaN</td>\n",
       "      <td>NaN</td>\n",
       "      <td>0.000000</td>\n",
       "      <td>2002</td>\n",
       "    </tr>\n",
       "    <tr>\n",
       "      <th>19598</th>\n",
       "      <td>19597</td>\n",
       "      <td>Tokyo Yamanote Boys for V: Main Disc</td>\n",
       "      <td>PSV</td>\n",
       "      <td>Rejet</td>\n",
       "      <td>Rejet</td>\n",
       "      <td>NaN</td>\n",
       "      <td>NaN</td>\n",
       "      <td>0.000000</td>\n",
       "      <td>2017</td>\n",
       "    </tr>\n",
       "    <tr>\n",
       "      <th>19599</th>\n",
       "      <td>19598</td>\n",
       "      <td>NadePro!! Kisama no Seiyuu Yatte Miro!</td>\n",
       "      <td>PS2</td>\n",
       "      <td>GungHo</td>\n",
       "      <td>GungHo Works</td>\n",
       "      <td>NaN</td>\n",
       "      <td>NaN</td>\n",
       "      <td>0.000000</td>\n",
       "      <td>2009</td>\n",
       "    </tr>\n",
       "  </tbody>\n",
       "</table>\n",
       "<p>19600 rows × 9 columns</p>\n",
       "</div>"
      ],
      "text/plain": [
       "        Rank                                               Name Platform  \\\n",
       "0          1                                         Wii Sports      Wii   \n",
       "1          2                                  Super Mario Bros.      NES   \n",
       "2          3                   Counter-Strike: Global Offensive       PC   \n",
       "3          4                                     Mario Kart Wii      Wii   \n",
       "4          5                      PLAYERUNKNOWN'S BATTLEGROUNDS       PC   \n",
       "...      ...                                                ...      ...   \n",
       "19595  19594  FirePower for Microsoft Combat Flight Simulator 3       PC   \n",
       "19596  19595                         Tom Clancy's Splinter Cell       PC   \n",
       "19597  19596             Ashita no Joe 2: The Anime Super Remix      PS2   \n",
       "19598  19597               Tokyo Yamanote Boys for V: Main Disc      PSV   \n",
       "19599  19598             NadePro!! Kisama no Seiyuu Yatte Miro!      PS2   \n",
       "\n",
       "              Publisher              Developer  Critic_Score  User_Score  \\\n",
       "0              Nintendo           Nintendo EAD           7.7         8.0   \n",
       "1              Nintendo           Nintendo EAD          10.0         8.2   \n",
       "2                 Valve      Valve Corporation           8.0         7.5   \n",
       "3              Nintendo           Nintendo EAD           8.2         9.1   \n",
       "4      PUBG Corporation       PUBG Corporation           8.6         4.7   \n",
       "...                 ...                    ...           ...         ...   \n",
       "19595         GMX Media  Shockwave Productions           NaN         NaN   \n",
       "19596           Ubisoft                Ubisoft           9.4         NaN   \n",
       "19597            Capcom                 Capcom           NaN         NaN   \n",
       "19598             Rejet                  Rejet           NaN         NaN   \n",
       "19599            GungHo           GungHo Works           NaN         NaN   \n",
       "\n",
       "       Total_Shipped  Year  \n",
       "0           1.000000  2006  \n",
       "1           0.485342  1985  \n",
       "2           0.482447  2012  \n",
       "3           0.450115  2008  \n",
       "4           0.441428  2017  \n",
       "...              ...   ...  \n",
       "19595       0.000000  2004  \n",
       "19596       0.000000  2003  \n",
       "19597       0.000000  2002  \n",
       "19598       0.000000  2017  \n",
       "19599       0.000000  2009  \n",
       "\n",
       "[19600 rows x 9 columns]"
      ]
     },
     "execution_count": 25,
     "metadata": {},
     "output_type": "execute_result"
    }
   ],
   "source": [
    "df"
   ]
  },
  {
   "cell_type": "code",
   "execution_count": 26,
   "id": "5099c524",
   "metadata": {},
   "outputs": [
    {
     "data": {
      "text/html": [
       "<div>\n",
       "<style scoped>\n",
       "    .dataframe tbody tr th:only-of-type {\n",
       "        vertical-align: middle;\n",
       "    }\n",
       "\n",
       "    .dataframe tbody tr th {\n",
       "        vertical-align: top;\n",
       "    }\n",
       "\n",
       "    .dataframe thead th {\n",
       "        text-align: right;\n",
       "    }\n",
       "</style>\n",
       "<table border=\"1\" class=\"dataframe\">\n",
       "  <thead>\n",
       "    <tr style=\"text-align: right;\">\n",
       "      <th></th>\n",
       "      <th>Rank</th>\n",
       "      <th>Critic_Score</th>\n",
       "      <th>User_Score</th>\n",
       "      <th>Total_Shipped</th>\n",
       "      <th>Year</th>\n",
       "    </tr>\n",
       "  </thead>\n",
       "  <tbody>\n",
       "    <tr>\n",
       "      <th>count</th>\n",
       "      <td>19600.000000</td>\n",
       "      <td>9969.000000</td>\n",
       "      <td>2223.000000</td>\n",
       "      <td>19600.000000</td>\n",
       "      <td>19600.000000</td>\n",
       "    </tr>\n",
       "    <tr>\n",
       "      <th>mean</th>\n",
       "      <td>9798.539133</td>\n",
       "      <td>7.034848</td>\n",
       "      <td>6.994872</td>\n",
       "      <td>0.006528</td>\n",
       "      <td>2007.789949</td>\n",
       "    </tr>\n",
       "    <tr>\n",
       "      <th>std</th>\n",
       "      <td>5658.110539</td>\n",
       "      <td>1.558968</td>\n",
       "      <td>1.517038</td>\n",
       "      <td>0.020165</td>\n",
       "      <td>6.326169</td>\n",
       "    </tr>\n",
       "    <tr>\n",
       "      <th>min</th>\n",
       "      <td>1.000000</td>\n",
       "      <td>0.800000</td>\n",
       "      <td>1.000000</td>\n",
       "      <td>0.000000</td>\n",
       "      <td>1977.000000</td>\n",
       "    </tr>\n",
       "    <tr>\n",
       "      <th>25%</th>\n",
       "      <td>4898.750000</td>\n",
       "      <td>6.100000</td>\n",
       "      <td>6.300000</td>\n",
       "      <td>0.000483</td>\n",
       "      <td>2004.000000</td>\n",
       "    </tr>\n",
       "    <tr>\n",
       "      <th>50%</th>\n",
       "      <td>9798.500000</td>\n",
       "      <td>7.300000</td>\n",
       "      <td>7.200000</td>\n",
       "      <td>0.001810</td>\n",
       "      <td>2008.000000</td>\n",
       "    </tr>\n",
       "    <tr>\n",
       "      <th>75%</th>\n",
       "      <td>14698.250000</td>\n",
       "      <td>8.200000</td>\n",
       "      <td>8.000000</td>\n",
       "      <td>0.005429</td>\n",
       "      <td>2012.000000</td>\n",
       "    </tr>\n",
       "    <tr>\n",
       "      <th>max</th>\n",
       "      <td>19598.000000</td>\n",
       "      <td>10.000000</td>\n",
       "      <td>10.000000</td>\n",
       "      <td>1.000000</td>\n",
       "      <td>2020.000000</td>\n",
       "    </tr>\n",
       "  </tbody>\n",
       "</table>\n",
       "</div>"
      ],
      "text/plain": [
       "               Rank  Critic_Score   User_Score  Total_Shipped          Year\n",
       "count  19600.000000   9969.000000  2223.000000   19600.000000  19600.000000\n",
       "mean    9798.539133      7.034848     6.994872       0.006528   2007.789949\n",
       "std     5658.110539      1.558968     1.517038       0.020165      6.326169\n",
       "min        1.000000      0.800000     1.000000       0.000000   1977.000000\n",
       "25%     4898.750000      6.100000     6.300000       0.000483   2004.000000\n",
       "50%     9798.500000      7.300000     7.200000       0.001810   2008.000000\n",
       "75%    14698.250000      8.200000     8.000000       0.005429   2012.000000\n",
       "max    19598.000000     10.000000    10.000000       1.000000   2020.000000"
      ]
     },
     "execution_count": 26,
     "metadata": {},
     "output_type": "execute_result"
    }
   ],
   "source": [
    "df.describe()"
   ]
  },
  {
   "cell_type": "code",
   "execution_count": 27,
   "id": "119dd735",
   "metadata": {},
   "outputs": [
    {
     "name": "stdout",
     "output_type": "stream",
     "text": [
      "19600\n"
     ]
    }
   ],
   "source": [
    "print(len(df))"
   ]
  },
  {
   "cell_type": "code",
   "execution_count": 28,
   "id": "b6e92a4c",
   "metadata": {},
   "outputs": [
    {
     "data": {
      "text/plain": [
       "<function matplotlib.pyplot.show(close=None, block=None)>"
      ]
     },
     "execution_count": 28,
     "metadata": {},
     "output_type": "execute_result"
    },
    {
     "data": {
      "image/png": "[encoded data removed]",
      "text/plain": [
       "<Figure size 432x288 with 1 Axes>"
      ]
     },
     "metadata": {
      "needs_background": "light"
     },
     "output_type": "display_data"
    }
   ],
   "source": [
    "#Plot Units sold in Millions against Critic Score on Metacritic\n",
    "x = df['Total_Shipped']\n",
    "y = df['Critic_Score']\n",
    "plt.title('Units Shipped vs. Critic Score')\n",
    "plt.xlabel('Units Sold')\n",
    "plt.ylabel('Critic Score')           \n",
    "plt.scatter(x,y)\n",
    "plt.show"
   ]
  },
  {
   "cell_type": "code",
   "execution_count": 29,
   "id": "676c421f",
   "metadata": {},
   "outputs": [
    {
     "data": {
      "text/plain": [
       "<function matplotlib.pyplot.show(close=None, block=None)>"
      ]
     },
     "execution_count": 29,
     "metadata": {},
     "output_type": "execute_result"
    },
    {
     "data": {
      "image/png": "[encoded data removed]",
      "text/plain": [
       "<Figure size 432x288 with 1 Axes>"
      ]
     },
     "metadata": {
      "needs_background": "light"
     },
     "output_type": "display_data"
    }
   ],
   "source": [
    "#Plot Units sold in Millions against Consumer Score on Metacritic\n",
    "x = df['Total_Shipped']\n",
    "y = df['User_Score']\n",
    "plt.title('Units Shipped vs. User Score')\n",
    "plt.xlabel('Units Sold')\n",
    "plt.ylabel('User Score')           \n",
    "plt.scatter(x,y)\n",
    "plt.show"
   ]
  },
  {
   "cell_type": "code",
   "execution_count": 30,
   "id": "9484a432",
   "metadata": {},
   "outputs": [
    {
     "data": {
      "text/plain": [
       "<function matplotlib.pyplot.show(close=None, block=None)>"
      ]
     },
     "execution_count": 30,
     "metadata": {},
     "output_type": "execute_result"
    },
    {
     "data": {
      "image/png": "[encoded data removed]",
      "text/plain": [
       "<Figure size 432x288 with 1 Axes>"
      ]
     },
     "metadata": {
      "needs_background": "light"
     },
     "output_type": "display_data"
    }
   ],
   "source": [
    "#Plot highest sales figures of games per year\n",
    "x= df[\"Year\"]\n",
    "y= df['Total_Shipped']\n",
    "plt.title('Highest Sales by Year')\n",
    "plt.xlabel('Units Sold')\n",
    "plt.ylabel('Year')    \n",
    "plt.barh(x,y)\n",
    "plt.show"
   ]
  },
  {
   "cell_type": "code",
   "execution_count": 31,
   "id": "92fd497f",
   "metadata": {},
   "outputs": [
    {
     "data": {
      "text/plain": [
       "<function matplotlib.pyplot.show(close=None, block=None)>"
      ]
     },
     "execution_count": 31,
     "metadata": {},
     "output_type": "execute_result"
    },
    {
     "data": {
      "image/png": "[encoded data removed]",
      "text/plain": [
       "<Figure size 432x288 with 1 Axes>"
      ]
     },
     "metadata": {
      "needs_background": "light"
     },
     "output_type": "display_data"
    }
   ],
   "source": [
    "#Plot highest critic score per year\n",
    "x= df[\"Year\"]\n",
    "y= df['Critic_Score']\n",
    "plt.title('Highest Critic Review by Year')\n",
    "plt.xlabel('Year')\n",
    "plt.ylabel('Critic Score')    \n",
    "plt.bar(x,y)\n",
    "plt.show"
   ]
  },
  {
   "cell_type": "code",
   "execution_count": 32,
   "id": "b61ed003",
   "metadata": {},
   "outputs": [
    {
     "data": {
      "text/html": [
       "<div>\n",
       "<style scoped>\n",
       "    .dataframe tbody tr th:only-of-type {\n",
       "        vertical-align: middle;\n",
       "    }\n",
       "\n",
       "    .dataframe tbody tr th {\n",
       "        vertical-align: top;\n",
       "    }\n",
       "\n",
       "    .dataframe thead th {\n",
       "        text-align: right;\n",
       "    }\n",
       "</style>\n",
       "<table border=\"1\" class=\"dataframe\">\n",
       "  <thead>\n",
       "    <tr style=\"text-align: right;\">\n",
       "      <th></th>\n",
       "      <th>Rank</th>\n",
       "      <th>Critic_Score</th>\n",
       "      <th>User_Score</th>\n",
       "      <th>Total_Shipped</th>\n",
       "      <th>Year</th>\n",
       "    </tr>\n",
       "  </thead>\n",
       "  <tbody>\n",
       "    <tr>\n",
       "      <th>Rank</th>\n",
       "      <td>1.000000</td>\n",
       "      <td>-0.349772</td>\n",
       "      <td>-0.203942</td>\n",
       "      <td>-0.420119</td>\n",
       "      <td>0.189437</td>\n",
       "    </tr>\n",
       "    <tr>\n",
       "      <th>Critic_Score</th>\n",
       "      <td>-0.349772</td>\n",
       "      <td>1.000000</td>\n",
       "      <td>0.515379</td>\n",
       "      <td>0.235779</td>\n",
       "      <td>0.053852</td>\n",
       "    </tr>\n",
       "    <tr>\n",
       "      <th>User_Score</th>\n",
       "      <td>-0.203942</td>\n",
       "      <td>0.515379</td>\n",
       "      <td>1.000000</td>\n",
       "      <td>0.147828</td>\n",
       "      <td>-0.246976</td>\n",
       "    </tr>\n",
       "    <tr>\n",
       "      <th>Total_Shipped</th>\n",
       "      <td>-0.420119</td>\n",
       "      <td>0.235779</td>\n",
       "      <td>0.147828</td>\n",
       "      <td>1.000000</td>\n",
       "      <td>-0.048958</td>\n",
       "    </tr>\n",
       "    <tr>\n",
       "      <th>Year</th>\n",
       "      <td>0.189437</td>\n",
       "      <td>0.053852</td>\n",
       "      <td>-0.246976</td>\n",
       "      <td>-0.048958</td>\n",
       "      <td>1.000000</td>\n",
       "    </tr>\n",
       "  </tbody>\n",
       "</table>\n",
       "</div>"
      ],
      "text/plain": [
       "                   Rank  Critic_Score  User_Score  Total_Shipped      Year\n",
       "Rank           1.000000     -0.349772   -0.203942      -0.420119  0.189437\n",
       "Critic_Score  -0.349772      1.000000    0.515379       0.235779  0.053852\n",
       "User_Score    -0.203942      0.515379    1.000000       0.147828 -0.246976\n",
       "Total_Shipped -0.420119      0.235779    0.147828       1.000000 -0.048958\n",
       "Year           0.189437      0.053852   -0.246976      -0.048958  1.000000"
      ]
     },
     "execution_count": 32,
     "metadata": {},
     "output_type": "execute_result"
    }
   ],
   "source": [
    "#create correlation matrix to help determine feature importance\n",
    "df.corr()"
   ]
  },
  {
   "cell_type": "code",
   "execution_count": 33,
   "id": "8367740d",
   "metadata": {},
   "outputs": [
    {
     "data": {
      "text/html": [
       "<div>\n",
       "<style scoped>\n",
       "    .dataframe tbody tr th:only-of-type {\n",
       "        vertical-align: middle;\n",
       "    }\n",
       "\n",
       "    .dataframe tbody tr th {\n",
       "        vertical-align: top;\n",
       "    }\n",
       "\n",
       "    .dataframe thead th {\n",
       "        text-align: right;\n",
       "    }\n",
       "</style>\n",
       "<table border=\"1\" class=\"dataframe\">\n",
       "  <thead>\n",
       "    <tr style=\"text-align: right;\">\n",
       "      <th></th>\n",
       "      <th>Rank</th>\n",
       "      <th>Name</th>\n",
       "      <th>Platform</th>\n",
       "      <th>Publisher</th>\n",
       "      <th>Developer</th>\n",
       "      <th>Critic_Score</th>\n",
       "      <th>User_Score</th>\n",
       "      <th>Total_Shipped</th>\n",
       "      <th>Year</th>\n",
       "    </tr>\n",
       "  </thead>\n",
       "  <tbody>\n",
       "    <tr>\n",
       "      <th>0</th>\n",
       "      <td>1</td>\n",
       "      <td>Wii Sports</td>\n",
       "      <td>Wii</td>\n",
       "      <td>Nintendo</td>\n",
       "      <td>Nintendo EAD</td>\n",
       "      <td>7.7</td>\n",
       "      <td>8.0</td>\n",
       "      <td>1.000000</td>\n",
       "      <td>2006</td>\n",
       "    </tr>\n",
       "    <tr>\n",
       "      <th>1</th>\n",
       "      <td>2</td>\n",
       "      <td>Super Mario Bros.</td>\n",
       "      <td>NES</td>\n",
       "      <td>Nintendo</td>\n",
       "      <td>Nintendo EAD</td>\n",
       "      <td>10.0</td>\n",
       "      <td>8.2</td>\n",
       "      <td>0.485342</td>\n",
       "      <td>1985</td>\n",
       "    </tr>\n",
       "    <tr>\n",
       "      <th>2</th>\n",
       "      <td>3</td>\n",
       "      <td>Counter-Strike: Global Offensive</td>\n",
       "      <td>PC</td>\n",
       "      <td>Valve</td>\n",
       "      <td>Valve Corporation</td>\n",
       "      <td>8.0</td>\n",
       "      <td>7.5</td>\n",
       "      <td>0.482447</td>\n",
       "      <td>2012</td>\n",
       "    </tr>\n",
       "    <tr>\n",
       "      <th>3</th>\n",
       "      <td>4</td>\n",
       "      <td>Mario Kart Wii</td>\n",
       "      <td>Wii</td>\n",
       "      <td>Nintendo</td>\n",
       "      <td>Nintendo EAD</td>\n",
       "      <td>8.2</td>\n",
       "      <td>9.1</td>\n",
       "      <td>0.450115</td>\n",
       "      <td>2008</td>\n",
       "    </tr>\n",
       "    <tr>\n",
       "      <th>4</th>\n",
       "      <td>5</td>\n",
       "      <td>PLAYERUNKNOWN'S BATTLEGROUNDS</td>\n",
       "      <td>PC</td>\n",
       "      <td>PUBG Corporation</td>\n",
       "      <td>PUBG Corporation</td>\n",
       "      <td>8.6</td>\n",
       "      <td>4.7</td>\n",
       "      <td>0.441428</td>\n",
       "      <td>2017</td>\n",
       "    </tr>\n",
       "    <tr>\n",
       "      <th>...</th>\n",
       "      <td>...</td>\n",
       "      <td>...</td>\n",
       "      <td>...</td>\n",
       "      <td>...</td>\n",
       "      <td>...</td>\n",
       "      <td>...</td>\n",
       "      <td>...</td>\n",
       "      <td>...</td>\n",
       "      <td>...</td>\n",
       "    </tr>\n",
       "    <tr>\n",
       "      <th>19464</th>\n",
       "      <td>19463</td>\n",
       "      <td>Teslagrad</td>\n",
       "      <td>PS4</td>\n",
       "      <td>Rain Games</td>\n",
       "      <td>Rain Games</td>\n",
       "      <td>7.8</td>\n",
       "      <td>6.7</td>\n",
       "      <td>0.000000</td>\n",
       "      <td>2014</td>\n",
       "    </tr>\n",
       "    <tr>\n",
       "      <th>19496</th>\n",
       "      <td>19495</td>\n",
       "      <td>Sega 3D Classics Collection</td>\n",
       "      <td>3DS</td>\n",
       "      <td>Sega</td>\n",
       "      <td>M2</td>\n",
       "      <td>7.3</td>\n",
       "      <td>7.5</td>\n",
       "      <td>0.000000</td>\n",
       "      <td>2016</td>\n",
       "    </tr>\n",
       "    <tr>\n",
       "      <th>19507</th>\n",
       "      <td>19506</td>\n",
       "      <td>Happy Birthdays</td>\n",
       "      <td>NS</td>\n",
       "      <td>NIS America</td>\n",
       "      <td>Arc System Works</td>\n",
       "      <td>8.5</td>\n",
       "      <td>7.0</td>\n",
       "      <td>0.000000</td>\n",
       "      <td>2018</td>\n",
       "    </tr>\n",
       "    <tr>\n",
       "      <th>19525</th>\n",
       "      <td>19524</td>\n",
       "      <td>The Mighty Quest for Epic Loot</td>\n",
       "      <td>PC</td>\n",
       "      <td>Ubisoft</td>\n",
       "      <td>Ubisoft</td>\n",
       "      <td>6.4</td>\n",
       "      <td>5.6</td>\n",
       "      <td>0.000000</td>\n",
       "      <td>2015</td>\n",
       "    </tr>\n",
       "    <tr>\n",
       "      <th>19583</th>\n",
       "      <td>19582</td>\n",
       "      <td>Super Meat Boy</td>\n",
       "      <td>PS4</td>\n",
       "      <td>Team Meat</td>\n",
       "      <td>Team Meat</td>\n",
       "      <td>8.5</td>\n",
       "      <td>7.0</td>\n",
       "      <td>0.000000</td>\n",
       "      <td>2016</td>\n",
       "    </tr>\n",
       "  </tbody>\n",
       "</table>\n",
       "<p>2208 rows × 9 columns</p>\n",
       "</div>"
      ],
      "text/plain": [
       "        Rank                              Name Platform         Publisher  \\\n",
       "0          1                        Wii Sports      Wii          Nintendo   \n",
       "1          2                 Super Mario Bros.      NES          Nintendo   \n",
       "2          3  Counter-Strike: Global Offensive       PC             Valve   \n",
       "3          4                    Mario Kart Wii      Wii          Nintendo   \n",
       "4          5     PLAYERUNKNOWN'S BATTLEGROUNDS       PC  PUBG Corporation   \n",
       "...      ...                               ...      ...               ...   \n",
       "19464  19463                         Teslagrad      PS4        Rain Games   \n",
       "19496  19495       Sega 3D Classics Collection      3DS              Sega   \n",
       "19507  19506                   Happy Birthdays       NS       NIS America   \n",
       "19525  19524    The Mighty Quest for Epic Loot       PC           Ubisoft   \n",
       "19583  19582                    Super Meat Boy      PS4         Team Meat   \n",
       "\n",
       "               Developer  Critic_Score  User_Score  Total_Shipped  Year  \n",
       "0           Nintendo EAD           7.7         8.0       1.000000  2006  \n",
       "1           Nintendo EAD          10.0         8.2       0.485342  1985  \n",
       "2      Valve Corporation           8.0         7.5       0.482447  2012  \n",
       "3           Nintendo EAD           8.2         9.1       0.450115  2008  \n",
       "4       PUBG Corporation           8.6         4.7       0.441428  2017  \n",
       "...                  ...           ...         ...            ...   ...  \n",
       "19464         Rain Games           7.8         6.7       0.000000  2014  \n",
       "19496                 M2           7.3         7.5       0.000000  2016  \n",
       "19507   Arc System Works           8.5         7.0       0.000000  2018  \n",
       "19525            Ubisoft           6.4         5.6       0.000000  2015  \n",
       "19583          Team Meat           8.5         7.0       0.000000  2016  \n",
       "\n",
       "[2208 rows x 9 columns]"
      ]
     },
     "execution_count": 33,
     "metadata": {},
     "output_type": "execute_result"
    }
   ],
   "source": [
    "df = df.dropna()\n",
    "df"
   ]
  },
  {
   "cell_type": "code",
   "execution_count": 34,
   "id": "927a70c6",
   "metadata": {},
   "outputs": [],
   "source": [
    "#Dropping the column \"Rank\" from the data frame as it is redundant with sales and doesn't actually provide any insight beyond what we get from sales numbers.\n",
    "df2 = df.drop('Rank',axis = 1)"
   ]
  },
  {
   "cell_type": "code",
   "execution_count": 35,
   "id": "53b8fce2",
   "metadata": {},
   "outputs": [
    {
     "data": {
      "text/html": [
       "<div>\n",
       "<style scoped>\n",
       "    .dataframe tbody tr th:only-of-type {\n",
       "        vertical-align: middle;\n",
       "    }\n",
       "\n",
       "    .dataframe tbody tr th {\n",
       "        vertical-align: top;\n",
       "    }\n",
       "\n",
       "    .dataframe thead th {\n",
       "        text-align: right;\n",
       "    }\n",
       "</style>\n",
       "<table border=\"1\" class=\"dataframe\">\n",
       "  <thead>\n",
       "    <tr style=\"text-align: right;\">\n",
       "      <th></th>\n",
       "      <th>Developer</th>\n",
       "      <th>Rank</th>\n",
       "      <th>Critic_Score</th>\n",
       "      <th>User_Score</th>\n",
       "      <th>Total_Shipped</th>\n",
       "      <th>Year</th>\n",
       "    </tr>\n",
       "  </thead>\n",
       "  <tbody>\n",
       "    <tr>\n",
       "      <th>0</th>\n",
       "      <td>11 bit studios</td>\n",
       "      <td>2875.000000</td>\n",
       "      <td>8.150000</td>\n",
       "      <td>7.850000</td>\n",
       "      <td>0.011763</td>\n",
       "      <td>2014.500000</td>\n",
       "    </tr>\n",
       "    <tr>\n",
       "      <th>1</th>\n",
       "      <td>1C Company</td>\n",
       "      <td>10735.000000</td>\n",
       "      <td>7.200000</td>\n",
       "      <td>5.200000</td>\n",
       "      <td>0.001448</td>\n",
       "      <td>2011.000000</td>\n",
       "    </tr>\n",
       "    <tr>\n",
       "      <th>2</th>\n",
       "      <td>1C: Maddox Games</td>\n",
       "      <td>14779.000000</td>\n",
       "      <td>5.000000</td>\n",
       "      <td>7.100000</td>\n",
       "      <td>0.000483</td>\n",
       "      <td>2011.000000</td>\n",
       "    </tr>\n",
       "    <tr>\n",
       "      <th>3</th>\n",
       "      <td>2K Australia / 2K Boston</td>\n",
       "      <td>644.000000</td>\n",
       "      <td>9.600000</td>\n",
       "      <td>9.500000</td>\n",
       "      <td>0.034021</td>\n",
       "      <td>2007.000000</td>\n",
       "    </tr>\n",
       "    <tr>\n",
       "      <th>4</th>\n",
       "      <td>2K Boston / 2K Australia / 2K Marin</td>\n",
       "      <td>1597.000000</td>\n",
       "      <td>9.300000</td>\n",
       "      <td>9.600000</td>\n",
       "      <td>0.017252</td>\n",
       "      <td>2008.000000</td>\n",
       "    </tr>\n",
       "    <tr>\n",
       "      <th>...</th>\n",
       "      <td>...</td>\n",
       "      <td>...</td>\n",
       "      <td>...</td>\n",
       "      <td>...</td>\n",
       "      <td>...</td>\n",
       "      <td>...</td>\n",
       "    </tr>\n",
       "    <tr>\n",
       "      <th>712</th>\n",
       "      <td>imageepoch Inc.</td>\n",
       "      <td>7336.000000</td>\n",
       "      <td>7.500000</td>\n",
       "      <td>8.000000</td>\n",
       "      <td>0.003016</td>\n",
       "      <td>2015.000000</td>\n",
       "    </tr>\n",
       "    <tr>\n",
       "      <th>713</th>\n",
       "      <td>n-Space</td>\n",
       "      <td>9405.000000</td>\n",
       "      <td>6.366667</td>\n",
       "      <td>6.500000</td>\n",
       "      <td>0.001970</td>\n",
       "      <td>2009.666667</td>\n",
       "    </tr>\n",
       "    <tr>\n",
       "      <th>714</th>\n",
       "      <td>stillalive studios</td>\n",
       "      <td>9959.000000</td>\n",
       "      <td>4.600000</td>\n",
       "      <td>6.000000</td>\n",
       "      <td>0.001689</td>\n",
       "      <td>2017.000000</td>\n",
       "    </tr>\n",
       "    <tr>\n",
       "      <th>715</th>\n",
       "      <td>syn Sophia</td>\n",
       "      <td>4780.333333</td>\n",
       "      <td>7.600000</td>\n",
       "      <td>6.766667</td>\n",
       "      <td>0.008324</td>\n",
       "      <td>2016.333333</td>\n",
       "    </tr>\n",
       "    <tr>\n",
       "      <th>716</th>\n",
       "      <td>tri-Ace</td>\n",
       "      <td>7377.200000</td>\n",
       "      <td>7.380000</td>\n",
       "      <td>8.160000</td>\n",
       "      <td>0.005694</td>\n",
       "      <td>2012.200000</td>\n",
       "    </tr>\n",
       "  </tbody>\n",
       "</table>\n",
       "<p>717 rows × 6 columns</p>\n",
       "</div>"
      ],
      "text/plain": [
       "                               Developer          Rank  Critic_Score  \\\n",
       "0                         11 bit studios   2875.000000      8.150000   \n",
       "1                             1C Company  10735.000000      7.200000   \n",
       "2                       1C: Maddox Games  14779.000000      5.000000   \n",
       "3               2K Australia / 2K Boston    644.000000      9.600000   \n",
       "4    2K Boston / 2K Australia / 2K Marin   1597.000000      9.300000   \n",
       "..                                   ...           ...           ...   \n",
       "712                      imageepoch Inc.   7336.000000      7.500000   \n",
       "713                              n-Space   9405.000000      6.366667   \n",
       "714                   stillalive studios   9959.000000      4.600000   \n",
       "715                           syn Sophia   4780.333333      7.600000   \n",
       "716                              tri-Ace   7377.200000      7.380000   \n",
       "\n",
       "     User_Score  Total_Shipped         Year  \n",
       "0      7.850000       0.011763  2014.500000  \n",
       "1      5.200000       0.001448  2011.000000  \n",
       "2      7.100000       0.000483  2011.000000  \n",
       "3      9.500000       0.034021  2007.000000  \n",
       "4      9.600000       0.017252  2008.000000  \n",
       "..          ...            ...          ...  \n",
       "712    8.000000       0.003016  2015.000000  \n",
       "713    6.500000       0.001970  2009.666667  \n",
       "714    6.000000       0.001689  2017.000000  \n",
       "715    6.766667       0.008324  2016.333333  \n",
       "716    8.160000       0.005694  2012.200000  \n",
       "\n",
       "[717 rows x 6 columns]"
      ]
     },
     "execution_count": 35,
     "metadata": {},
     "output_type": "execute_result"
    }
   ],
   "source": [
    "#grouping the data by developer and taking the average of the scores of each developer.\n",
    "dftest = df.groupby(['Developer'], as_index=False).mean()\n",
    "dftest"
   ]
  },
  {
   "cell_type": "code",
   "execution_count": 36,
   "id": "474eb20a",
   "metadata": {},
   "outputs": [
    {
     "data": {
      "text/plain": [
       "<function matplotlib.pyplot.show(close=None, block=None)>"
      ]
     },
     "execution_count": 36,
     "metadata": {},
     "output_type": "execute_result"
    },
    {
     "data": {
      "image/png": "[encoded data removed]",
      "text/plain": [
       "<Figure size 432x288 with 1 Axes>"
      ]
     },
     "metadata": {
      "needs_background": "light"
     },
     "output_type": "display_data"
    }
   ],
   "source": [
    "x = dftest['Critic_Score']\n",
    "y = dftest['User_Score']\n",
    "plt.title('Avg Critic Score vs. Avg User Score By Developer')\n",
    "plt.xlabel('Critic Score')\n",
    "plt.ylabel('User Score')           \n",
    "plt.scatter(x,y)\n",
    "plt.show"
   ]
  },
  {
   "cell_type": "code",
   "execution_count": 39,
   "id": "915ccf88",
   "metadata": {},
   "outputs": [
    {
     "name": "stdout",
     "output_type": "stream",
     "text": [
      "0.2756025531819333\n"
     ]
    },
    {
     "name": "stderr",
     "output_type": "stream",
     "text": [
      "C:\\Users\\jaybp\\anaconda3\\lib\\site-packages\\pandas\\core\\frame.py:4462: SettingWithCopyWarning: \n",
      "A value is trying to be set on a copy of a slice from a DataFrame\n",
      "\n",
      "See the caveats in the documentation: https://pandas.pydata.org/pandas-docs/stable/user_guide/indexing.html#returning-a-view-versus-a-copy\n",
      "  return super().fillna(\n",
      "<ipython-input-39-299e5c1ef7d2>:7: SettingWithCopyWarning: \n",
      "A value is trying to be set on a copy of a slice from a DataFrame\n",
      "\n",
      "See the caveats in the documentation: https://pandas.pydata.org/pandas-docs/stable/user_guide/indexing.html#returning-a-view-versus-a-copy\n",
      "  df.dropna(inplace = True)\n"
     ]
    }
   ],
   "source": [
    "#Getting a linear regression score for the data\n",
    "df.fillna(method ='ffill', inplace = True)\n",
    "  \n",
    "X = np.array(df['User_Score']).reshape(-1, 1)\n",
    "y = np.array(df['Critic_Score']).reshape(-1, 1)\n",
    "  \n",
    "df.dropna(inplace = True)\n",
    "X_train, X_test, y_train, y_test = train_test_split(X, y, test_size = 0.25)\n",
    "  \n",
    "regr = LinearRegression()\n",
    "regr.fit(X_train, y_train)\n",
    "print(regr.score(X_test, y_test))"
   ]
  },
  {
   "cell_type": "code",
   "execution_count": 40,
   "id": "e408deda",
   "metadata": {},
   "outputs": [
    {
     "data": {
      "image/png": "[encoded data removed]",
      "text/plain": [
       "<Figure size 432x288 with 1 Axes>"
      ]
     },
     "metadata": {
      "needs_background": "light"
     },
     "output_type": "display_data"
    }
   ],
   "source": [
    "#plotting the regression using seaborn\n",
    "y_pred = regr.predict(X_test)\n",
    "plt.scatter(X_test, y_test, color ='b')\n",
    "plt.plot(X_test, y_pred, color ='k')\n",
    "  \n",
    "plt.show()"
   ]
  },
  {
   "cell_type": "code",
   "execution_count": 41,
   "id": "19f198f3",
   "metadata": {},
   "outputs": [
    {
     "name": "stdout",
     "output_type": "stream",
     "text": [
      "0.24998370225864086\n"
     ]
    }
   ],
   "source": [
    "#Getting a linear regression score for the data for the grouped data frame using the averages of the scores per developer to show the relationship between the user score and the critic score.\n",
    "X = np.array(df['User_Score']).reshape(-1, 1)\n",
    "y = np.array(df['Critic_Score']).reshape(-1, 1)\n",
    "  \n",
    "dftest.dropna(inplace = True)\n",
    "X_train, X_test, y_train, y_test = train_test_split(X, y, test_size = 0.25)\n",
    "  \n",
    "regr = LinearRegression()\n",
    "regr.fit(X_train, y_train)\n",
    "print(regr.score(X_test, y_test))"
   ]
  },
  {
   "cell_type": "code",
   "execution_count": 42,
   "id": "3a45dc9c",
   "metadata": {},
   "outputs": [
    {
     "name": "stdout",
     "output_type": "stream",
     "text": [
      "0.04002984194116321\n"
     ]
    }
   ],
   "source": [
    "X = np.array(df['User_Score']).reshape(-1, 1)\n",
    "y = np.array(df['Total_Shipped']).reshape(-1, 1)\n",
    "  \n",
    "dftest.dropna(inplace = True)\n",
    "X_train, X_test, y_train, y_test = train_test_split(X, y, test_size = 0.25)\n",
    "  \n",
    "regr = LinearRegression()\n",
    "regr.fit(X_train, y_train)\n",
    "print(regr.score(X_test, y_test))"
   ]
  },
  {
   "cell_type": "code",
   "execution_count": 43,
   "id": "7413f90f",
   "metadata": {},
   "outputs": [
    {
     "name": "stdout",
     "output_type": "stream",
     "text": [
      "0.08815759788236821\n"
     ]
    }
   ],
   "source": [
    "X = np.array(df['Critic_Score']).reshape(-1, 1)\n",
    "y = np.array(df['Total_Shipped']).reshape(-1, 1)\n",
    "  \n",
    "dftest.dropna(inplace = True)\n",
    "X_train, X_test, y_train, y_test = train_test_split(X, y, test_size = 0.25)\n",
    "  \n",
    "regr = LinearRegression()\n",
    "regr.fit(X_train, y_train)\n",
    "print(regr.score(X_test, y_test))"
   ]
  },
  {
   "cell_type": "code",
   "execution_count": null,
   "id": "c45b85c3",
   "metadata": {},
   "outputs": [],
   "source": []
  }
 ],
 "metadata": {
  "kernelspec": {
   "display_name": "Python 3",
   "language": "python",
   "name": "python3"
  },
  "language_info": {
   "codemirror_mode": {
    "name": "ipython",
    "version": 3
   },
   "file_extension": ".py",
   "mimetype": "text/x-python",
   "name": "python",
   "nbconvert_exporter": "python",
   "pygments_lexer": "ipython3",
   "version": "3.8.8"
  }
 },
 "nbformat": 4,
 "nbformat_minor": 5
}
