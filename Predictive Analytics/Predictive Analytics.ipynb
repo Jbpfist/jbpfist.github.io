{
 "cells": [
  {
   "cell_type": "markdown",
   "id": "20f9a40b",
   "metadata": {},
   "source": [
    "  This was a very interesting assignment. I really enjoyed doing something that felt like an actual data scientist. My approach was to look at the data as a whole first and come up with my first impressions as to what a good feature to choose might be for impact on attendance. There were a few that jumped out at me at first, the flashy stuff like whether fireworks or bobbleheads were present. I looked at these based on the idea that previous promotional events may be a good predictor of future promotional events. However, it turns out that those promotions aren't as effective at predicting a good turn out as other variables. \n",
    "  \n",
    "  To further explore the data I made some various plots to help determine which options were best. I included scatter plots as well as boxplots and a linear regression. Over all, the box plots were the most helpful at demonstrating the value of a given variable visually and provided me the most insight into my choices. Box plots very concisely demonstrate a range of levels to include highlighting median values and outliers. This project ended up being my love letter to box plots.\n",
    "  \n",
    "  The best options for strong turn out for a Dodgers game are to have your promotional event are day of the week, month, and opposing team. Theoretically, the best time to have this promotion would be on a Tuesday in either April or August and ideally a game against the Padres. These are the variables that most consistently have high rates of attendance. There are a couple of other features that look appealing that turn out to be more of an outlier that I had to filter out. The biggest example is at first I have been led to think that the Pirates were the best opponent choice, but in the case of the Pirates they only really had one over the top attendance day. The Padres, on the other hand, are consistently a high attendance opponent which makes a great deal of sense given the rivalry between the teams.\n",
    "  \n",
    "  \n",
    "\n"
   ]
  },
  {
   "cell_type": "code",
   "execution_count": 45,
   "id": "af439186",
   "metadata": {},
   "outputs": [],
   "source": [
    "import pandas as pd\n",
    "import numpy as np\n",
    "import matplotlib.pyplot as plt\n",
    "import seaborn as sns\n",
    "from sklearn.linear_model import LinearRegression\n",
    "from sklearn.model_selection import train_test_split"
   ]
  },
  {
   "cell_type": "code",
   "execution_count": 46,
   "id": "c963b7e4",
   "metadata": {},
   "outputs": [],
   "source": [
    "df = pd.read_csv('C:\\\\Users\\\\jaybp\\\\Desktop\\\\dodgers.csv')"
   ]
  },
  {
   "cell_type": "code",
   "execution_count": 47,
   "id": "7e7ebc80",
   "metadata": {},
   "outputs": [
    {
     "data": {
      "text/html": [
       "<div>\n",
       "<style scoped>\n",
       "    .dataframe tbody tr th:only-of-type {\n",
       "        vertical-align: middle;\n",
       "    }\n",
       "\n",
       "    .dataframe tbody tr th {\n",
       "        vertical-align: top;\n",
       "    }\n",
       "\n",
       "    .dataframe thead th {\n",
       "        text-align: right;\n",
       "    }\n",
       "</style>\n",
       "<table border=\"1\" class=\"dataframe\">\n",
       "  <thead>\n",
       "    <tr style=\"text-align: right;\">\n",
       "      <th></th>\n",
       "      <th>month</th>\n",
       "      <th>day</th>\n",
       "      <th>attend</th>\n",
       "      <th>day_of_week</th>\n",
       "      <th>opponent</th>\n",
       "      <th>temp</th>\n",
       "      <th>skies</th>\n",
       "      <th>day_night</th>\n",
       "      <th>cap</th>\n",
       "      <th>shirt</th>\n",
       "      <th>fireworks</th>\n",
       "      <th>bobblehead</th>\n",
       "    </tr>\n",
       "  </thead>\n",
       "  <tbody>\n",
       "    <tr>\n",
       "      <th>0</th>\n",
       "      <td>APR</td>\n",
       "      <td>10</td>\n",
       "      <td>56000</td>\n",
       "      <td>Tuesday</td>\n",
       "      <td>Pirates</td>\n",
       "      <td>67</td>\n",
       "      <td>Clear</td>\n",
       "      <td>Day</td>\n",
       "      <td>NO</td>\n",
       "      <td>NO</td>\n",
       "      <td>NO</td>\n",
       "      <td>NO</td>\n",
       "    </tr>\n",
       "    <tr>\n",
       "      <th>1</th>\n",
       "      <td>APR</td>\n",
       "      <td>11</td>\n",
       "      <td>29729</td>\n",
       "      <td>Wednesday</td>\n",
       "      <td>Pirates</td>\n",
       "      <td>58</td>\n",
       "      <td>Cloudy</td>\n",
       "      <td>Night</td>\n",
       "      <td>NO</td>\n",
       "      <td>NO</td>\n",
       "      <td>NO</td>\n",
       "      <td>NO</td>\n",
       "    </tr>\n",
       "    <tr>\n",
       "      <th>2</th>\n",
       "      <td>APR</td>\n",
       "      <td>12</td>\n",
       "      <td>28328</td>\n",
       "      <td>Thursday</td>\n",
       "      <td>Pirates</td>\n",
       "      <td>57</td>\n",
       "      <td>Cloudy</td>\n",
       "      <td>Night</td>\n",
       "      <td>NO</td>\n",
       "      <td>NO</td>\n",
       "      <td>NO</td>\n",
       "      <td>NO</td>\n",
       "    </tr>\n",
       "    <tr>\n",
       "      <th>3</th>\n",
       "      <td>APR</td>\n",
       "      <td>13</td>\n",
       "      <td>31601</td>\n",
       "      <td>Friday</td>\n",
       "      <td>Padres</td>\n",
       "      <td>54</td>\n",
       "      <td>Cloudy</td>\n",
       "      <td>Night</td>\n",
       "      <td>NO</td>\n",
       "      <td>NO</td>\n",
       "      <td>YES</td>\n",
       "      <td>NO</td>\n",
       "    </tr>\n",
       "    <tr>\n",
       "      <th>4</th>\n",
       "      <td>APR</td>\n",
       "      <td>14</td>\n",
       "      <td>46549</td>\n",
       "      <td>Saturday</td>\n",
       "      <td>Padres</td>\n",
       "      <td>57</td>\n",
       "      <td>Cloudy</td>\n",
       "      <td>Night</td>\n",
       "      <td>NO</td>\n",
       "      <td>NO</td>\n",
       "      <td>NO</td>\n",
       "      <td>NO</td>\n",
       "    </tr>\n",
       "    <tr>\n",
       "      <th>...</th>\n",
       "      <td>...</td>\n",
       "      <td>...</td>\n",
       "      <td>...</td>\n",
       "      <td>...</td>\n",
       "      <td>...</td>\n",
       "      <td>...</td>\n",
       "      <td>...</td>\n",
       "      <td>...</td>\n",
       "      <td>...</td>\n",
       "      <td>...</td>\n",
       "      <td>...</td>\n",
       "      <td>...</td>\n",
       "    </tr>\n",
       "    <tr>\n",
       "      <th>76</th>\n",
       "      <td>SEP</td>\n",
       "      <td>29</td>\n",
       "      <td>40724</td>\n",
       "      <td>Saturday</td>\n",
       "      <td>Rockies</td>\n",
       "      <td>84</td>\n",
       "      <td>Cloudy</td>\n",
       "      <td>Night</td>\n",
       "      <td>NO</td>\n",
       "      <td>NO</td>\n",
       "      <td>NO</td>\n",
       "      <td>NO</td>\n",
       "    </tr>\n",
       "    <tr>\n",
       "      <th>77</th>\n",
       "      <td>SEP</td>\n",
       "      <td>30</td>\n",
       "      <td>35607</td>\n",
       "      <td>Sunday</td>\n",
       "      <td>Rockies</td>\n",
       "      <td>95</td>\n",
       "      <td>Clear</td>\n",
       "      <td>Day</td>\n",
       "      <td>NO</td>\n",
       "      <td>NO</td>\n",
       "      <td>NO</td>\n",
       "      <td>NO</td>\n",
       "    </tr>\n",
       "    <tr>\n",
       "      <th>78</th>\n",
       "      <td>OCT</td>\n",
       "      <td>1</td>\n",
       "      <td>33624</td>\n",
       "      <td>Monday</td>\n",
       "      <td>Giants</td>\n",
       "      <td>86</td>\n",
       "      <td>Clear</td>\n",
       "      <td>Night</td>\n",
       "      <td>NO</td>\n",
       "      <td>NO</td>\n",
       "      <td>NO</td>\n",
       "      <td>NO</td>\n",
       "    </tr>\n",
       "    <tr>\n",
       "      <th>79</th>\n",
       "      <td>OCT</td>\n",
       "      <td>2</td>\n",
       "      <td>42473</td>\n",
       "      <td>Tuesday</td>\n",
       "      <td>Giants</td>\n",
       "      <td>83</td>\n",
       "      <td>Clear</td>\n",
       "      <td>Night</td>\n",
       "      <td>NO</td>\n",
       "      <td>NO</td>\n",
       "      <td>NO</td>\n",
       "      <td>NO</td>\n",
       "    </tr>\n",
       "    <tr>\n",
       "      <th>80</th>\n",
       "      <td>OCT</td>\n",
       "      <td>3</td>\n",
       "      <td>34014</td>\n",
       "      <td>Wednesday</td>\n",
       "      <td>Giants</td>\n",
       "      <td>82</td>\n",
       "      <td>Cloudy</td>\n",
       "      <td>Night</td>\n",
       "      <td>NO</td>\n",
       "      <td>NO</td>\n",
       "      <td>NO</td>\n",
       "      <td>NO</td>\n",
       "    </tr>\n",
       "  </tbody>\n",
       "</table>\n",
       "<p>81 rows × 12 columns</p>\n",
       "</div>"
      ],
      "text/plain": [
       "   month  day  attend day_of_week opponent  temp   skies day_night cap shirt  \\\n",
       "0    APR   10   56000     Tuesday  Pirates    67  Clear        Day  NO    NO   \n",
       "1    APR   11   29729   Wednesday  Pirates    58  Cloudy     Night  NO    NO   \n",
       "2    APR   12   28328    Thursday  Pirates    57  Cloudy     Night  NO    NO   \n",
       "3    APR   13   31601      Friday   Padres    54  Cloudy     Night  NO    NO   \n",
       "4    APR   14   46549    Saturday   Padres    57  Cloudy     Night  NO    NO   \n",
       "..   ...  ...     ...         ...      ...   ...     ...       ...  ..   ...   \n",
       "76   SEP   29   40724    Saturday  Rockies    84  Cloudy     Night  NO    NO   \n",
       "77   SEP   30   35607      Sunday  Rockies    95  Clear        Day  NO    NO   \n",
       "78   OCT    1   33624      Monday   Giants    86  Clear      Night  NO    NO   \n",
       "79   OCT    2   42473     Tuesday   Giants    83  Clear      Night  NO    NO   \n",
       "80   OCT    3   34014   Wednesday   Giants    82  Cloudy     Night  NO    NO   \n",
       "\n",
       "   fireworks bobblehead  \n",
       "0         NO         NO  \n",
       "1         NO         NO  \n",
       "2         NO         NO  \n",
       "3        YES         NO  \n",
       "4         NO         NO  \n",
       "..       ...        ...  \n",
       "76        NO         NO  \n",
       "77        NO         NO  \n",
       "78        NO         NO  \n",
       "79        NO         NO  \n",
       "80        NO         NO  \n",
       "\n",
       "[81 rows x 12 columns]"
      ]
     },
     "execution_count": 47,
     "metadata": {},
     "output_type": "execute_result"
    }
   ],
   "source": [
    "df"
   ]
  },
  {
   "cell_type": "code",
   "execution_count": 48,
   "id": "d18adcb7",
   "metadata": {},
   "outputs": [
    {
     "data": {
      "text/plain": [
       "<bound method NDFrame.describe of    month  day  attend day_of_week opponent  temp   skies day_night cap shirt  \\\n",
       "0    APR   10   56000     Tuesday  Pirates    67  Clear        Day  NO    NO   \n",
       "1    APR   11   29729   Wednesday  Pirates    58  Cloudy     Night  NO    NO   \n",
       "2    APR   12   28328    Thursday  Pirates    57  Cloudy     Night  NO    NO   \n",
       "3    APR   13   31601      Friday   Padres    54  Cloudy     Night  NO    NO   \n",
       "4    APR   14   46549    Saturday   Padres    57  Cloudy     Night  NO    NO   \n",
       "..   ...  ...     ...         ...      ...   ...     ...       ...  ..   ...   \n",
       "76   SEP   29   40724    Saturday  Rockies    84  Cloudy     Night  NO    NO   \n",
       "77   SEP   30   35607      Sunday  Rockies    95  Clear        Day  NO    NO   \n",
       "78   OCT    1   33624      Monday   Giants    86  Clear      Night  NO    NO   \n",
       "79   OCT    2   42473     Tuesday   Giants    83  Clear      Night  NO    NO   \n",
       "80   OCT    3   34014   Wednesday   Giants    82  Cloudy     Night  NO    NO   \n",
       "\n",
       "   fireworks bobblehead  \n",
       "0         NO         NO  \n",
       "1         NO         NO  \n",
       "2         NO         NO  \n",
       "3        YES         NO  \n",
       "4         NO         NO  \n",
       "..       ...        ...  \n",
       "76        NO         NO  \n",
       "77        NO         NO  \n",
       "78        NO         NO  \n",
       "79        NO         NO  \n",
       "80        NO         NO  \n",
       "\n",
       "[81 rows x 12 columns]>"
      ]
     },
     "execution_count": 48,
     "metadata": {},
     "output_type": "execute_result"
    }
   ],
   "source": [
    "df.describe"
   ]
  },
  {
   "cell_type": "code",
   "execution_count": 49,
   "id": "70da3d93",
   "metadata": {},
   "outputs": [
    {
     "data": {
      "text/plain": [
       "(81, 12)"
      ]
     },
     "execution_count": 49,
     "metadata": {},
     "output_type": "execute_result"
    }
   ],
   "source": [
    "df.shape"
   ]
  },
  {
   "cell_type": "code",
   "execution_count": 50,
   "id": "4a0cba9b",
   "metadata": {},
   "outputs": [
    {
     "data": {
      "text/html": [
       "<div>\n",
       "<style scoped>\n",
       "    .dataframe tbody tr th:only-of-type {\n",
       "        vertical-align: middle;\n",
       "    }\n",
       "\n",
       "    .dataframe tbody tr th {\n",
       "        vertical-align: top;\n",
       "    }\n",
       "\n",
       "    .dataframe thead th {\n",
       "        text-align: right;\n",
       "    }\n",
       "</style>\n",
       "<table border=\"1\" class=\"dataframe\">\n",
       "  <thead>\n",
       "    <tr style=\"text-align: right;\">\n",
       "      <th></th>\n",
       "      <th>day</th>\n",
       "      <th>attend</th>\n",
       "      <th>temp</th>\n",
       "    </tr>\n",
       "  </thead>\n",
       "  <tbody>\n",
       "    <tr>\n",
       "      <th>day</th>\n",
       "      <td>1.000000</td>\n",
       "      <td>0.027093</td>\n",
       "      <td>-0.127612</td>\n",
       "    </tr>\n",
       "    <tr>\n",
       "      <th>attend</th>\n",
       "      <td>0.027093</td>\n",
       "      <td>1.000000</td>\n",
       "      <td>0.098951</td>\n",
       "    </tr>\n",
       "    <tr>\n",
       "      <th>temp</th>\n",
       "      <td>-0.127612</td>\n",
       "      <td>0.098951</td>\n",
       "      <td>1.000000</td>\n",
       "    </tr>\n",
       "  </tbody>\n",
       "</table>\n",
       "</div>"
      ],
      "text/plain": [
       "             day    attend      temp\n",
       "day     1.000000  0.027093 -0.127612\n",
       "attend  0.027093  1.000000  0.098951\n",
       "temp   -0.127612  0.098951  1.000000"
      ]
     },
     "execution_count": 50,
     "metadata": {},
     "output_type": "execute_result"
    }
   ],
   "source": [
    "df.corr()"
   ]
  },
  {
   "cell_type": "code",
   "execution_count": 51,
   "id": "80b0546e",
   "metadata": {},
   "outputs": [
    {
     "data": {
      "text/plain": [
       "<AxesSubplot:title={'center':'attend'}, xlabel='month'>"
      ]
     },
     "execution_count": 51,
     "metadata": {},
     "output_type": "execute_result"
    },
    {
     "data": {
      "image/png": "[encoded data removed]",
      "text/plain": [
       "<Figure size 432x288 with 1 Axes>"
      ]
     },
     "metadata": {
      "needs_background": "light"
     },
     "output_type": "display_data"
    }
   ],
   "source": [
    "df.boxplot(column = 'attend', by = 'month')"
   ]
  },
  {
   "cell_type": "code",
   "execution_count": 52,
   "id": "fe8718f2",
   "metadata": {},
   "outputs": [
    {
     "data": {
      "text/plain": [
       "<AxesSubplot:title={'center':'attend'}, xlabel='day_of_week'>"
      ]
     },
     "execution_count": 52,
     "metadata": {},
     "output_type": "execute_result"
    },
    {
     "data": {
      "image/png": "[encoded data removed]",
      "text/plain": [
       "<Figure size 432x288 with 1 Axes>"
      ]
     },
     "metadata": {
      "needs_background": "light"
     },
     "output_type": "display_data"
    }
   ],
   "source": [
    "df.boxplot(column = 'attend', by = 'day_of_week')"
   ]
  },
  {
   "cell_type": "code",
   "execution_count": 53,
   "id": "1d5bc266",
   "metadata": {},
   "outputs": [
    {
     "data": {
      "text/plain": [
       "(array([ 1,  2,  3,  4,  5,  6,  7,  8,  9, 10, 11, 12, 13, 14, 15, 16, 17]),\n",
       " [Text(1, 0, 'Angels'),\n",
       "  Text(2, 0, 'Astros'),\n",
       "  Text(3, 0, 'Braves'),\n",
       "  Text(4, 0, 'Brewers'),\n",
       "  Text(5, 0, 'Cardinals'),\n",
       "  Text(6, 0, 'Cubs'),\n",
       "  Text(7, 0, 'Giants'),\n",
       "  Text(8, 0, 'Marlins'),\n",
       "  Text(9, 0, 'Mets'),\n",
       "  Text(10, 0, 'Nationals'),\n",
       "  Text(11, 0, 'Padres'),\n",
       "  Text(12, 0, 'Phillies'),\n",
       "  Text(13, 0, 'Pirates'),\n",
       "  Text(14, 0, 'Reds'),\n",
       "  Text(15, 0, 'Rockies'),\n",
       "  Text(16, 0, 'Snakes'),\n",
       "  Text(17, 0, 'White Sox')])"
      ]
     },
     "execution_count": 53,
     "metadata": {},
     "output_type": "execute_result"
    },
    {
     "data": {
      "image/png": "[encoded data removed]",
      "text/plain": [
       "<Figure size 432x288 with 1 Axes>"
      ]
     },
     "metadata": {
      "needs_background": "light"
     },
     "output_type": "display_data"
    }
   ],
   "source": [
    "df.boxplot(column = 'attend', by = 'opponent')\n",
    "plt.xticks(rotation ='vertical')\n",
    "\n"
   ]
  },
  {
   "cell_type": "code",
   "execution_count": 54,
   "id": "77583f2e",
   "metadata": {},
   "outputs": [
    {
     "data": {
      "text/plain": [
       "<function matplotlib.pyplot.show(close=None, block=None)>"
      ]
     },
     "execution_count": 54,
     "metadata": {},
     "output_type": "execute_result"
    },
    {
     "data": {
      "image/png": "[encoded data removed]",
      "text/plain": [
       "<Figure size 432x288 with 1 Axes>"
      ]
     },
     "metadata": {
      "needs_background": "light"
     },
     "output_type": "display_data"
    }
   ],
   "source": [
    "x = df['temp']\n",
    "y = df['attend']\n",
    "plt.title('Impact on Attendance')\n",
    "plt.xlabel('Temperature')\n",
    "plt.ylabel('Attendance')           \n",
    "plt.scatter(x,y)\n",
    "plt.show"
   ]
  },
  {
   "cell_type": "code",
   "execution_count": 60,
   "id": "08290fee",
   "metadata": {},
   "outputs": [
    {
     "data": {
      "text/plain": [
       "<function matplotlib.pyplot.show(close=None, block=None)>"
      ]
     },
     "execution_count": 60,
     "metadata": {},
     "output_type": "execute_result"
    },
    {
     "data": {
      "image/png": "[encoded data removed]",
      "text/plain": [
       "<Figure size 432x288 with 1 Axes>"
      ]
     },
     "metadata": {
      "needs_background": "light"
     },
     "output_type": "display_data"
    }
   ],
   "source": [
    "x = df['day_of_week']\n",
    "y = df['attend']\n",
    "plt.title('Impact on Attendance')\n",
    "plt.xlabel('Day of Week')\n",
    "plt.ylabel('Attendance')           \n",
    "plt.scatter(x,y)\n",
    "plt.show"
   ]
  },
  {
   "cell_type": "code",
   "execution_count": 62,
   "id": "f60910ed",
   "metadata": {},
   "outputs": [
    {
     "data": {
      "text/plain": [
       "<function matplotlib.pyplot.show(close=None, block=None)>"
      ]
     },
     "execution_count": 62,
     "metadata": {},
     "output_type": "execute_result"
    },
    {
     "data": {
      "image/png": "[encoded data removed]",
      "text/plain": [
       "<Figure size 432x288 with 1 Axes>"
      ]
     },
     "metadata": {
      "needs_background": "light"
     },
     "output_type": "display_data"
    }
   ],
   "source": [
    "x = df['fireworks']\n",
    "y = df['attend']\n",
    "plt.title('Impact on Attendance')\n",
    "plt.xlabel('Fireworks')\n",
    "plt.ylabel('Attendance')           \n",
    "plt.scatter(x,y)\n",
    "plt.show"
   ]
  },
  {
   "cell_type": "code",
   "execution_count": 64,
   "id": "ed8bd020",
   "metadata": {},
   "outputs": [
    {
     "data": {
      "text/plain": [
       "<function matplotlib.pyplot.show(close=None, block=None)>"
      ]
     },
     "execution_count": 64,
     "metadata": {},
     "output_type": "execute_result"
    },
    {
     "data": {
      "image/png": "[encoded data removed]",
      "text/plain": [
       "<Figure size 432x288 with 1 Axes>"
      ]
     },
     "metadata": {
      "needs_background": "light"
     },
     "output_type": "display_data"
    }
   ],
   "source": [
    "x = df['bobblehead']\n",
    "y = df['attend']\n",
    "plt.title('Impact on Attendance')\n",
    "plt.xlabel('Bobbleheads')\n",
    "plt.ylabel('Attendance')           \n",
    "plt.scatter(x,y)\n",
    "plt.show"
   ]
  },
  {
   "cell_type": "code",
   "execution_count": 66,
   "id": "878d26f5",
   "metadata": {},
   "outputs": [
    {
     "data": {
      "text/plain": [
       "<function matplotlib.pyplot.show(close=None, block=None)>"
      ]
     },
     "execution_count": 66,
     "metadata": {},
     "output_type": "execute_result"
    },
    {
     "data": {
      "image/png": "[encoded data removed]",
      "text/plain": [
       "<Figure size 432x288 with 1 Axes>"
      ]
     },
     "metadata": {
      "needs_background": "light"
     },
     "output_type": "display_data"
    }
   ],
   "source": [
    "x = df['opponent']\n",
    "y = df['attend']\n",
    "plt.title('Impact on Attendance')\n",
    "plt.xlabel('Bobbleheads')\n",
    "plt.ylabel('Attendance')           \n",
    "plt.scatter(x,y)\n",
    "plt.xticks(rotation ='vertical')\n",
    "plt.show"
   ]
  },
  {
   "cell_type": "code",
   "execution_count": 67,
   "id": "e82af671",
   "metadata": {},
   "outputs": [
    {
     "data": {
      "text/plain": [
       "<function matplotlib.pyplot.show(close=None, block=None)>"
      ]
     },
     "execution_count": 67,
     "metadata": {},
     "output_type": "execute_result"
    },
    {
     "data": {
      "image/png": "[encoded data removed]",
      "text/plain": [
       "<Figure size 432x288 with 1 Axes>"
      ]
     },
     "metadata": {
      "needs_background": "light"
     },
     "output_type": "display_data"
    }
   ],
   "source": [
    "x = df['month']\n",
    "y = df['attend']\n",
    "plt.title('Impact on Attendance')\n",
    "plt.xlabel('Month')\n",
    "plt.ylabel('Attendance')           \n",
    "plt.scatter(x,y)\n",
    "plt.xticks(rotation ='vertical')\n",
    "plt.show"
   ]
  },
  {
   "cell_type": "code",
   "execution_count": 55,
   "id": "7a653060",
   "metadata": {},
   "outputs": [
    {
     "name": "stdout",
     "output_type": "stream",
     "text": [
      "-0.021899705894442567\n"
     ]
    }
   ],
   "source": [
    "#Getting a linear regression score for the data.\n",
    "X = np.array(df['temp']).reshape(-1, 1)\n",
    "y = np.array(df['attend']).reshape(-1, 1)\n",
    "  \n",
    "df.dropna(inplace = True)\n",
    "X_train, X_test, y_train, y_test = train_test_split(X, y, test_size = 0.25)\n",
    "  \n",
    "regr = LinearRegression()\n",
    "regr.fit(X_train, y_train)\n",
    "print(regr.score(X_test, y_test))"
   ]
  },
  {
   "cell_type": "code",
   "execution_count": 56,
   "id": "ff1eb328",
   "metadata": {},
   "outputs": [
    {
     "name": "stdout",
     "output_type": "stream",
     "text": [
      "-0.02718855339702686\n"
     ]
    }
   ],
   "source": [
    "#Getting a linear regression score for the data.\n",
    "X = np.array(df['day']).reshape(-1, 1)\n",
    "y = np.array(df['attend']).reshape(-1, 1)\n",
    "  \n",
    "df.dropna(inplace = True)\n",
    "X_train, X_test, y_train, y_test = train_test_split(X, y, test_size = 0.25)\n",
    "  \n",
    "regr = LinearRegression()\n",
    "regr.fit(X_train, y_train)\n",
    "print(regr.score(X_test, y_test))"
   ]
  },
  {
   "cell_type": "code",
   "execution_count": null,
   "id": "e660871f",
   "metadata": {},
   "outputs": [],
   "source": []
  },
  {
   "cell_type": "code",
   "execution_count": null,
   "id": "407ca203",
   "metadata": {},
   "outputs": [],
   "source": []
  },
  {
   "cell_type": "code",
   "execution_count": null,
   "id": "2fefa0aa",
   "metadata": {},
   "outputs": [],
   "source": []
  }
 ],
 "metadata": {
  "kernelspec": {
   "display_name": "Python 3",
   "language": "python",
   "name": "python3"
  },
  "language_info": {
   "codemirror_mode": {
    "name": "ipython",
    "version": 3
   },
   "file_extension": ".py",
   "mimetype": "text/x-python",
   "name": "python",
   "nbconvert_exporter": "python",
   "pygments_lexer": "ipython3",
   "version": "3.8.8"
  }
 },
 "nbformat": 4,
 "nbformat_minor": 5
}
